{
 "cells": [
  {
   "cell_type": "code",
   "execution_count": 1,
   "id": "eeed3c9b",
   "metadata": {},
   "outputs": [
    {
     "name": "stdout",
     "output_type": "stream",
     "text": [
      "Requirement already satisfied: ibm_watson in d:\\python\\lib\\site-packages (5.3.1)\n",
      "Requirement already satisfied: requests<3.0,>=2.0 in d:\\python\\lib\\site-packages (from ibm_watson) (2.27.1)\n",
      "Requirement already satisfied: websocket-client==1.1.0 in d:\\python\\lib\\site-packages (from ibm_watson) (1.1.0)\n",
      "Requirement already satisfied: python-dateutil>=2.5.3 in d:\\python\\lib\\site-packages (from ibm_watson) (2.8.2)\n",
      "Requirement already satisfied: ibm-cloud-sdk-core==3.*,>=3.3.6 in d:\\python\\lib\\site-packages (from ibm_watson) (3.14.0)\n",
      "Requirement already satisfied: urllib3<2.0.0,>=1.26.0 in d:\\python\\lib\\site-packages (from ibm-cloud-sdk-core==3.*,>=3.3.6->ibm_watson) (1.26.8)\n",
      "Requirement already satisfied: PyJWT<3.0.0,>=2.0.1 in d:\\python\\lib\\site-packages (from ibm-cloud-sdk-core==3.*,>=3.3.6->ibm_watson) (2.3.0)\n",
      "Requirement already satisfied: six>=1.5 in d:\\python\\lib\\site-packages (from python-dateutil>=2.5.3->ibm_watson) (1.16.0)\n",
      "Requirement already satisfied: charset-normalizer~=2.0.0 in d:\\python\\lib\\site-packages (from requests<3.0,>=2.0->ibm_watson) (2.0.11)\n",
      "Requirement already satisfied: certifi>=2017.4.17 in d:\\python\\lib\\site-packages (from requests<3.0,>=2.0->ibm_watson) (2021.10.8)\n",
      "Requirement already satisfied: idna<4,>=2.5 in d:\\python\\lib\\site-packages (from requests<3.0,>=2.0->ibm_watson) (3.3)\n"
     ]
    }
   ],
   "source": [
    "!pip install ibm_watson"
   ]
  },
  {
   "cell_type": "markdown",
   "id": "d6816c03",
   "metadata": {},
   "source": [
    "1. Authenticate"
   ]
  },
  {
   "cell_type": "code",
   "execution_count": 2,
   "id": "1caf49bc",
   "metadata": {},
   "outputs": [],
   "source": [
    "apikey = 'dZAZmO6fbQ9j6SeV8tUxkd9KiNhnJeQR3aTc5PS-K8md'\n",
    "url = 'https://api.eu-gb.language-translator.watson.cloud.ibm.com/instances/b228b816-1941-4a6f-bb53-6da108f864a8'"
   ]
  },
  {
   "cell_type": "code",
   "execution_count": 3,
   "id": "d7f794c9",
   "metadata": {},
   "outputs": [],
   "source": [
    "\n",
    "from ibm_watson import LanguageTranslatorV3\n",
    "from ibm_cloud_sdk_core.authenticators import IAMAuthenticator"
   ]
  },
  {
   "cell_type": "code",
   "execution_count": 4,
   "id": "b55aac31",
   "metadata": {},
   "outputs": [],
   "source": [
    "\n",
    "authenticator = IAMAuthenticator(apikey)\n",
    "lt = LanguageTranslatorV3(version='2018-05-01', authenticator=authenticator)\n",
    "lt.set_service_url(url)\n"
   ]
  },
  {
   "cell_type": "markdown",
   "id": "9b6b6887",
   "metadata": {},
   "source": [
    "2. Translate"
   ]
  },
  {
   "cell_type": "code",
   "execution_count": 15,
   "id": "f953efee",
   "metadata": {},
   "outputs": [],
   "source": [
    "translation = lt.translate(text='Bonjour à tous', model_id='fr-en').get_result()"
   ]
  },
  {
   "cell_type": "code",
   "execution_count": 16,
   "id": "aae2d713",
   "metadata": {},
   "outputs": [
    {
     "data": {
      "text/plain": [
       "{'translations': [{'translation': 'Hello everyone'}],\n",
       " 'word_count': 3,\n",
       " 'character_count': 14}"
      ]
     },
     "execution_count": 16,
     "metadata": {},
     "output_type": "execute_result"
    }
   ],
   "source": [
    "translation"
   ]
  },
  {
   "cell_type": "code",
   "execution_count": 17,
   "id": "a091b092",
   "metadata": {},
   "outputs": [
    {
     "data": {
      "text/plain": [
       "'Hello everyone'"
      ]
     },
     "execution_count": 17,
     "metadata": {},
     "output_type": "execute_result"
    }
   ],
   "source": [
    "translation['translations'][0]['translation']"
   ]
  },
  {
   "cell_type": "markdown",
   "id": "cd332fa0",
   "metadata": {},
   "source": [
    "3. Identify Languages"
   ]
  },
  {
   "cell_type": "code",
   "execution_count": 18,
   "id": "97d8d325",
   "metadata": {},
   "outputs": [],
   "source": [
    "language = lt.identify('Bonjour à tous.').get_result()"
   ]
  },
  {
   "cell_type": "code",
   "execution_count": 19,
   "id": "c1b680a0",
   "metadata": {},
   "outputs": [
    {
     "data": {
      "text/plain": [
       "{'languages': [{'language': 'fr', 'confidence': 0.9987170639574168},\n",
       "  {'language': 'ht', 'confidence': 0.00038172734961732137},\n",
       "  {'language': 'en', 'confidence': 0.00012799085624058128},\n",
       "  {'language': 'af', 'confidence': 7.078187229721548e-05},\n",
       "  {'language': 'mt', 'confidence': 5.6134284845034226e-05},\n",
       "  {'language': 'is', 'confidence': 5.1514768710171806e-05},\n",
       "  {'language': 'nn', 'confidence': 5.0189379358798786e-05},\n",
       "  {'language': 'sv', 'confidence': 4.971795082602289e-05},\n",
       "  {'language': 'pt', 'confidence': 4.6024842821743744e-05},\n",
       "  {'language': 'lt', 'confidence': 4.4971855035306555e-05},\n",
       "  {'language': 'lv', 'confidence': 4.412683157352506e-05},\n",
       "  {'language': 'nb', 'confidence': 3.807122142218437e-05},\n",
       "  {'language': 'ms', 'confidence': 3.1961691858262407e-05},\n",
       "  {'language': 'ca', 'confidence': 2.720833043826149e-05},\n",
       "  {'language': 'nl', 'confidence': 2.6454130781000132e-05},\n",
       "  {'language': 'sq', 'confidence': 2.5337923982635915e-05},\n",
       "  {'language': 'sl', 'confidence': 1.98870716733897e-05},\n",
       "  {'language': 'hr', 'confidence': 1.9095885020565947e-05},\n",
       "  {'language': 'da', 'confidence': 1.824276759677899e-05},\n",
       "  {'language': 'de', 'confidence': 1.6132278412036878e-05},\n",
       "  {'language': 'hu', 'confidence': 1.588930751113573e-05},\n",
       "  {'language': 'vi', 'confidence': 1.155683534528104e-05},\n",
       "  {'language': 'eo', 'confidence': 1.095983390393259e-05},\n",
       "  {'language': 'fi', 'confidence': 9.14587007289155e-06},\n",
       "  {'language': 'es', 'confidence': 8.534207673905855e-06},\n",
       "  {'language': 'cs', 'confidence': 7.507562303331353e-06},\n",
       "  {'language': 'et', 'confidence': 6.667954291524144e-06},\n",
       "  {'language': 'ga', 'confidence': 6.465465675946966e-06},\n",
       "  {'language': 'tr', 'confidence': 6.367128111107573e-06},\n",
       "  {'language': 'sk', 'confidence': 5.8862752757316095e-06},\n",
       "  {'language': 'az', 'confidence': 5.511889828676705e-06},\n",
       "  {'language': 'zh', 'confidence': 5.04082884739444e-06},\n",
       "  {'language': 'zh-TW', 'confidence': 4.918095110648497e-06},\n",
       "  {'language': 'ku', 'confidence': 4.884790386369117e-06},\n",
       "  {'language': 'tl', 'confidence': 3.1748884106246567e-06},\n",
       "  {'language': 'cy', 'confidence': 2.9448097154497986e-06},\n",
       "  {'language': 'pl', 'confidence': 2.846887325360469e-06},\n",
       "  {'language': 'ro', 'confidence': 1.9072328383129124e-06},\n",
       "  {'language': 'eu', 'confidence': 1.4136997743546943e-06},\n",
       "  {'language': 'sr', 'confidence': 1.334976293674908e-06},\n",
       "  {'language': 'so', 'confidence': 1.2724734706893357e-06},\n",
       "  {'language': 'ko', 'confidence': 1.2065104427823723e-06},\n",
       "  {'language': 'el', 'confidence': 9.810154325156837e-07},\n",
       "  {'language': 'th', 'confidence': 8.490383314223079e-07},\n",
       "  {'language': 'ar', 'confidence': 7.823836869488334e-07},\n",
       "  {'language': 'ja', 'confidence': 7.612479026538135e-07},\n",
       "  {'language': 'ru', 'confidence': 7.21931527723196e-07},\n",
       "  {'language': 'ka', 'confidence': 5.58296479697116e-07},\n",
       "  {'language': 'mn', 'confidence': 4.5342020692349323e-07},\n",
       "  {'language': 'be', 'confidence': 4.41202581250507e-07},\n",
       "  {'language': 'he', 'confidence': 4.3784926274518617e-07},\n",
       "  {'language': 'mr', 'confidence': 4.2756981493111407e-07},\n",
       "  {'language': 'pa', 'confidence': 3.8156759287056214e-07},\n",
       "  {'language': 'uk', 'confidence': 3.7654947630971455e-07},\n",
       "  {'language': 'bg', 'confidence': 3.6853096583208164e-07},\n",
       "  {'language': 'kk', 'confidence': 3.399010071510901e-07},\n",
       "  {'language': 'lo', 'confidence': 3.0642986075808696e-07},\n",
       "  {'language': 'ba', 'confidence': 2.8308496989877855e-07},\n",
       "  {'language': 'si', 'confidence': 2.667897874186183e-07},\n",
       "  {'language': 'ps', 'confidence': 2.643464943887079e-07},\n",
       "  {'language': 'hi', 'confidence': 2.636282957664615e-07},\n",
       "  {'language': 'cv', 'confidence': 2.6274743480901525e-07},\n",
       "  {'language': 'ky', 'confidence': 2.596283216984589e-07},\n",
       "  {'language': 'gu', 'confidence': 2.0903675619209176e-07},\n",
       "  {'language': 'ml', 'confidence': 2.0867440814691835e-07},\n",
       "  {'language': 'fa', 'confidence': 1.934853362743016e-07},\n",
       "  {'language': 'hy', 'confidence': 1.8946900203689156e-07},\n",
       "  {'language': 'km', 'confidence': 1.8609428016259124e-07},\n",
       "  {'language': 'it', 'confidence': 1.8567666008606018e-07},\n",
       "  {'language': 'te', 'confidence': 1.7933367219780867e-07},\n",
       "  {'language': 'bn', 'confidence': 1.7750116613420034e-07},\n",
       "  {'language': 'ta', 'confidence': 1.5773846392559914e-07},\n",
       "  {'language': 'my', 'confidence': 1.5409433923498977e-07},\n",
       "  {'language': 'ur', 'confidence': 1.4833982526715394e-07},\n",
       "  {'language': 'ne', 'confidence': 1.0504530838155199e-07},\n",
       "  {'language': 'pa-PK', 'confidence': 4.557881159518811e-08}]}"
      ]
     },
     "execution_count": 19,
     "metadata": {},
     "output_type": "execute_result"
    }
   ],
   "source": [
    "language"
   ]
  },
  {
   "cell_type": "markdown",
   "id": "fe44dfc1",
   "metadata": {},
   "source": [
    "4. AI Travel Guide"
   ]
  },
  {
   "cell_type": "code",
   "execution_count": 20,
   "id": "2f3584f4",
   "metadata": {},
   "outputs": [],
   "source": [
    "ttsapikey = 'nrRheqzdbe1g4vTXkb4eF0GL0iQh1ccl8v53Dam9zpoX'\n",
    "ttsurl = 'https://api.eu-gb.text-to-speech.watson.cloud.ibm.com/instances/8972434a-5633-4221-8b1b-040ab1022eb0'"
   ]
  },
  {
   "cell_type": "code",
   "execution_count": 21,
   "id": "91c041b1",
   "metadata": {},
   "outputs": [],
   "source": [
    "from ibm_watson import TextToSpeechV1"
   ]
  },
  {
   "cell_type": "code",
   "execution_count": 22,
   "id": "b1ed866c",
   "metadata": {},
   "outputs": [],
   "source": [
    "\n",
    "ttsauthenticator = IAMAuthenticator(ttsapikey)\n",
    "tts = TextToSpeechV1(authenticator=ttsauthenticator)\n",
    "tts.set_service_url(ttsurl)"
   ]
  },
  {
   "cell_type": "code",
   "execution_count": 25,
   "id": "522d272c",
   "metadata": {},
   "outputs": [],
   "source": [
    "translation = lt.translate(text='Hello ,Please send help!', model_id='en-fr').get_result()"
   ]
  },
  {
   "cell_type": "code",
   "execution_count": 26,
   "id": "6f520ee5",
   "metadata": {},
   "outputs": [
    {
     "data": {
      "text/plain": [
       "\"Bonjour, Merci d'envoyer de l'aide !\""
      ]
     },
     "execution_count": 26,
     "metadata": {},
     "output_type": "execute_result"
    }
   ],
   "source": [
    "text = translation['translations'][0]['translation']\n",
    "text"
   ]
  },
  {
   "cell_type": "code",
   "execution_count": 28,
   "id": "3b0f75bc",
   "metadata": {},
   "outputs": [],
   "source": [
    "with open('./help1.mp3', 'wb') as audio_file:\n",
    "    res = tts.synthesize(text, accept='audio/mp3', voice='zh-CN_LiNaVoice').get_result()\n",
    "    audio_file.write(res.content)"
   ]
  },
  {
   "cell_type": "code",
   "execution_count": null,
   "id": "ce13e5c6",
   "metadata": {},
   "outputs": [],
   "source": []
  },
  {
   "cell_type": "code",
   "execution_count": null,
   "id": "f2eaa263",
   "metadata": {},
   "outputs": [],
   "source": []
  }
 ],
 "metadata": {
  "kernelspec": {
   "display_name": "Python 3 (ipykernel)",
   "language": "python",
   "name": "python3"
  },
  "language_info": {
   "codemirror_mode": {
    "name": "ipython",
    "version": 3
   },
   "file_extension": ".py",
   "mimetype": "text/x-python",
   "name": "python",
   "nbconvert_exporter": "python",
   "pygments_lexer": "ipython3",
   "version": "3.7.3"
  }
 },
 "nbformat": 4,
 "nbformat_minor": 5
}
